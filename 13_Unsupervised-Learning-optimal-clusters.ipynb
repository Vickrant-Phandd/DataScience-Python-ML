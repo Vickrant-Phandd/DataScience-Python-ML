{
 "cells": [
  {
   "cell_type": "code",
   "execution_count": 20,
   "id": "f4b8687b",
   "metadata": {},
   "outputs": [],
   "source": [
    "import pandas as pd\n",
    "from sklearn.datasets import make_blobs\n",
    "from sklearn.cluster import KMeans\n",
    "from sklearn.metrics import silhouette_score\n",
    "import matplotlib.pyplot as plt\n",
    "%matplotlib inline"
   ]
  },
  {
   "cell_type": "code",
   "execution_count": 21,
   "id": "1b0a9443",
   "metadata": {},
   "outputs": [],
   "source": [
    "X, Y = make_blobs(n_samples=100, centers=4, n_features=4)"
   ]
  },
  {
   "cell_type": "code",
   "execution_count": null,
   "id": "f875454e",
   "metadata": {},
   "outputs": [],
   "source": [
    "X"
   ]
  },
  {
   "cell_type": "code",
   "execution_count": 23,
   "id": "ce3d9c27",
   "metadata": {},
   "outputs": [
    {
     "data": {
      "text/plain": [
       "array([0, 1, 1, 3, 2, 0, 2, 1, 2, 1, 2, 0, 2, 1, 0, 3, 2, 1, 0, 2, 3, 0,\n",
       "       3, 3, 0, 0, 1, 3, 3, 1, 0, 1, 2, 0, 1, 1, 2, 2, 2, 2, 0, 3, 1, 0,\n",
       "       0, 1, 0, 2, 3, 3, 2, 1, 3, 3, 1, 0, 3, 1, 0, 1, 2, 3, 3, 0, 2, 3,\n",
       "       1, 1, 3, 0, 3, 1, 3, 0, 2, 0, 3, 2, 0, 1, 0, 1, 3, 3, 2, 0, 3, 1,\n",
       "       2, 2, 3, 2, 0, 2, 1, 1, 2, 2, 0, 3])"
      ]
     },
     "execution_count": 23,
     "metadata": {},
     "output_type": "execute_result"
    }
   ],
   "source": [
    "Y"
   ]
  },
  {
   "cell_type": "markdown",
   "id": "f17e0459",
   "metadata": {},
   "source": [
    "## KMeans to find optimal clusters"
   ]
  },
  {
   "cell_type": "code",
   "execution_count": 24,
   "id": "1d898b24",
   "metadata": {},
   "outputs": [],
   "source": [
    "inertia =[]\n",
    "for n in range(1,11):\n",
    "    algorithm = KMeans(n_clusters = n)\n",
    "    algorithm.fit(X)\n",
    "    inertia.append(algorithm.inertia_)"
   ]
  },
  {
   "cell_type": "code",
   "execution_count": 31,
   "id": "84c864af",
   "metadata": {},
   "outputs": [
    {
     "data": {
      "text/plain": [
       "Text(0, 0.5, 'Inertia')"
      ]
     },
     "execution_count": 31,
     "metadata": {},
     "output_type": "execute_result"
    },
    {
     "data": {
      "image/png": "[encoded data removed]",
      "text/plain": [
       "<Figure size 432x288 with 1 Axes>"
      ]
     },
     "metadata": {
      "needs_background": "light"
     },
     "output_type": "display_data"
    }
   ],
   "source": [
    "pd.DataFrame({\"x\":[x for x in range(1,11)], \"y\":inertia}).plot(x=\"x\",y=\"y\")\n",
    "plt.xlabel(\"No_of_clusters\")\n",
    "plt.ylabel(\"Inertia\")"
   ]
  },
  {
   "cell_type": "markdown",
   "id": "fde69a1d",
   "metadata": {},
   "source": [
    "#### Observation the inter cluster variance or inertia gets steply decrease till 4 clusters after 4 columns there is not much change in interia"
   ]
  },
  {
   "cell_type": "markdown",
   "id": "efaedbee",
   "metadata": {},
   "source": [
    "## Silhouette to find optimal clusters"
   ]
  },
  {
   "cell_type": "code",
   "execution_count": 26,
   "id": "65fc3175",
   "metadata": {},
   "outputs": [],
   "source": [
    "sil =[]\n",
    "for k in range(2,11):\n",
    "    Kmeans = KMeans(n_clusters = k).fit(X)\n",
    "    labels = Kmeans.labels_\n",
    "    sil.append(silhouette_score(X, labels))"
   ]
  },
  {
   "cell_type": "code",
   "execution_count": 32,
   "id": "adf66166",
   "metadata": {},
   "outputs": [
    {
     "data": {
      "text/plain": [
       "Text(0, 0.5, 'Accuracy')"
      ]
     },
     "execution_count": 32,
     "metadata": {},
     "output_type": "execute_result"
    },
    {
     "data": {
      "image/png": "[encoded data removed]",
      "text/plain": [
       "<Figure size 432x288 with 1 Axes>"
      ]
     },
     "metadata": {
      "needs_background": "light"
     },
     "output_type": "display_data"
    }
   ],
   "source": [
    "pd.DataFrame({\"x\":[x for x in range(2,11)], \"y\":sil}).plot(x=\"x\",y=\"y\")\n",
    "plt.xlabel(\"No_of_clusters\")\n",
    "plt.ylabel(\"Accuracy\")"
   ]
  },
  {
   "cell_type": "markdown",
   "id": "ef3681aa",
   "metadata": {},
   "source": [
    "#### observation - till 4 clusters the accuracy increases to 0.8 after that there is step decline in accuracy , so we use 4 clusters to run algorithm"
   ]
  },
  {
   "cell_type": "code",
   "execution_count": null,
   "id": "26f0e536",
   "metadata": {},
   "outputs": [],
   "source": []
  },
  {
   "cell_type": "code",
   "execution_count": null,
   "id": "67dfad42",
   "metadata": {},
   "outputs": [],
   "source": []
  }
 ],
 "metadata": {
  "kernelspec": {
   "display_name": "Python 3 (ipykernel)",
   "language": "python",
   "name": "python3"
  },
  "language_info": {
   "codemirror_mode": {
    "name": "ipython",
    "version": 3
   },
   "file_extension": ".py",
   "mimetype": "text/x-python",
   "name": "python",
   "nbconvert_exporter": "python",
   "pygments_lexer": "ipython3",
   "version": "3.9.6"
  }
 },
 "nbformat": 4,
 "nbformat_minor": 5
}
